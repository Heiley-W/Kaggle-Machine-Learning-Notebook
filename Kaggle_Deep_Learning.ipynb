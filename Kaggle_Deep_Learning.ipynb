{
 "cells": [
  {
   "cell_type": "markdown",
   "metadata": {},
   "source": [
    "# Section 1: Background"
   ]
  },
  {
   "cell_type": "markdown",
   "metadata": {},
   "source": [
    "## 0. Introduction to Deep Learning\n",
    "- [Deep Learning] Deep stacks of computation\n",
    "- [Neural Network] Model of deep learning, composed of neurons which perform simple computation individually\n",
    "- [A single neuron] Output ($y$) = Input ($x$) * Weight ($w$) + Bias ($b$)\n",
    "- [Example 1] Input: Sugar; Output: Calories\n",
    "    - (Weight) 1 g of sugar = 2.5 cal\n",
    "    - Calories from other things = 80 cal\n",
    "    - Total calories = 2.5 * Sugar + 80 \n",
    "- [Example 2] Input: Sugar, fiber, protein; Output: calories\n",
    "    - (Weights) 1 g of fiber = 1 cal; 1 g of protein = 3 cal\n",
    "    - Total = 2.5 * Sugar + Fiber + 3 * Protein + 80 \n",
    "\n",
    "- Understand the data\n",
    "    1. Import pacakge: `import pandas as pd`.\n",
    "    2. Read csv file: `data = pd.read_csv(file_path)`.\n",
    "    3. Print head: `data.head()`\n",
    "    4. Print the shape: `shape=data.shape` (Rows, columns)\n",
    "\n",
    "## 1. Define a Linear Model\n",
    "\n",
    "1. Import packages: `from tensorflow import keras`/`from tensorflow.keras import layers`\n",
    "2. Identify the input shape (number of columns-1): `input_shape=shape[1]-1 `\n",
    "2. Create a network with 1 linear unit through `keras.Sequential` using dense layer: `model = keras.Sequential([layers.Dense(units=1, input_shapw=[3])])`\n",
    "    - `units` = (int) Number of output\n",
    "    - `input_shape` = (list) Dimensions of inputs [height,width,channels]"
   ]
  },
  {
   "cell_type": "code",
   "execution_count": 8,
   "metadata": {},
   "outputs": [
    {
     "name": "stdout",
     "output_type": "stream",
     "text": [
      "Path to dataset files: /Users/heiley/.cache/kagglehub/datasets/uciml/red-wine-quality-cortez-et-al-2009/versions/2\n"
     ]
    }
   ],
   "source": [
    "import kagglehub\n",
    "\n",
    "# Download latest version\n",
    "file_path = kagglehub.dataset_download(\"uciml/red-wine-quality-cortez-et-al-2009\")\n",
    "\n",
    "print(\"Path to dataset files:\", path)"
   ]
  },
  {
   "cell_type": "code",
   "execution_count": 17,
   "metadata": {},
   "outputs": [
    {
     "data": {
      "text/plain": [
       "12"
      ]
     },
     "execution_count": 17,
     "metadata": {},
     "output_type": "execute_result"
    }
   ],
   "source": [
    "# 0. Introduction \n",
    "\n",
    "# Import pacakge\n",
    "import pandas as pd\n",
    "from pathlib import Path\n",
    "\n",
    "# Read csv file\n",
    "data = pd.read_csv(Path(file_path) / \"winequality-red.csv\")\n",
    "\n",
    "# Print head\n",
    "data.head()\n",
    "\n",
    "# Print shape\n",
    "shape=data.shape\n",
    "shape\n"
   ]
  },
  {
   "cell_type": "markdown",
   "metadata": {},
   "source": []
  },
  {
   "cell_type": "code",
   "execution_count": 16,
   "metadata": {},
   "outputs": [
    {
     "name": "stderr",
     "output_type": "stream",
     "text": [
      "/Users/heiley/Documents/GitHub/Kaggle-Machine-Learning-Notebook/.venv/lib/python3.12/site-packages/keras/src/layers/core/dense.py:87: UserWarning: Do not pass an `input_shape`/`input_dim` argument to a layer. When using Sequential models, prefer using an `Input(shape)` object as the first layer in the model instead.\n",
      "  super().__init__(activity_regularizer=activity_regularizer, **kwargs)\n"
     ]
    }
   ],
   "source": [
    "# 1. Define a Linear Model\n",
    "\n",
    "## 1.1 Import packages\n",
    "\n",
    "from tensorflow import keras\n",
    "from tensorflow.keras import layers\n",
    "\n",
    "## 1.2 Identify input shape (number of columns)\n",
    "input_shape=shape[1]-1\n",
    "\n",
    "## 1.3 Create a network with 1 linear unit\n",
    "model = keras.Sequential([\n",
    "    layers.Dense(units=1, input_shape=[input_shape])\n",
    "])"
   ]
  },
  {
   "cell_type": "code",
   "execution_count": null,
   "metadata": {},
   "outputs": [],
   "source": [
    "# 2. Deep Neural Networks\n"
   ]
  }
 ],
 "metadata": {
  "kernelspec": {
   "display_name": ".venv",
   "language": "python",
   "name": "python3"
  },
  "language_info": {
   "codemirror_mode": {
    "name": "ipython",
    "version": 3
   },
   "file_extension": ".py",
   "mimetype": "text/x-python",
   "name": "python",
   "nbconvert_exporter": "python",
   "pygments_lexer": "ipython3",
   "version": "3.12.5"
  }
 },
 "nbformat": 4,
 "nbformat_minor": 2
}
