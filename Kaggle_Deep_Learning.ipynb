{
  "cells": [
    {
      "cell_type": "markdown",
      "metadata": {
        "id": "view-in-github",
        "colab_type": "text"
      },
      "source": [
        "<a href=\"https://colab.research.google.com/github/Heiley-W/Kaggle-Machine-Learning-Notebook/blob/main/Kaggle_Deep_Learning.ipynb\" target=\"_parent\"><img src=\"https://colab.research.google.com/assets/colab-badge.svg\" alt=\"Open In Colab\"/></a>"
      ]
    },
    {
      "cell_type": "markdown",
      "metadata": {
        "id": "hq3Y839vgl8T"
      },
      "source": [
        "# Section 1: A Neuron"
      ]
    },
    {
      "cell_type": "markdown",
      "metadata": {
        "id": "ggRckBVEgl8U"
      },
      "source": [
        "## 0. Introduction to Deep Learning\n",
        "- [Deep Learning] Deep stacks of computation\n",
        "- [Neural Network] Model of deep learning, composed of neurons which perform simple computation individually\n",
        "- [A single neuron] Output ($y$) = Input ($x$) * Weight ($w$) + Bias ($b$)\n",
        "- [Example 1] Input: Sugar; Output: Calories\n",
        "    - (Weight) 1 g of sugar = 2.5 cal\n",
        "    - Calories from other things = 80 cal\n",
        "    - Total calories = 2.5 * Sugar + 80\n",
        "- [Example 2] Input: Sugar, fiber, protein; Output: calories\n",
        "    - (Weights) 1 g of fiber = 1 cal; 1 g of protein = 3 cal\n",
        "    - Total = 2.5 * Sugar + Fiber + 3 * Protein + 80\n",
        "\n",
        "- Understand the data\n",
        "    1. Import pacakge: `import pandas as pd`.\n",
        "    2. Read csv file: `data = pd.read_csv(file_path)`.\n",
        "    3. Print head: `data.head()`\n",
        "    4. Print the shape: `shape=data.shape` (Rows, columns)\n",
        "\n",
        "## 1. Define a Linear Model\n",
        "\n",
        "1. Import packages: `from tensorflow import keras`/`from tensorflow.keras import layers`\n",
        "2. Identify the input shape (number of columns-1): `input_shape=shape[1]-1 `\n",
        "2. Create a network with 1 linear unit through `keras.Sequential` using dense layer: `model = keras.Sequential([layers.Dense(units=1, input_shapw=[3])])`\n",
        "    - `units` = (int) Number of output\n",
        "    - `input_shape` = (list) Dimensions of inputs [height,width,channels]"
      ]
    },
    {
      "cell_type": "code",
      "execution_count": 15,
      "metadata": {
        "id": "jJLsChf-gl8V",
        "outputId": "d87cb6f4-7ce6-449a-ee6e-e7e6719d4d47",
        "colab": {
          "base_uri": "https://localhost:8080/"
        }
      },
      "outputs": [
        {
          "output_type": "stream",
          "name": "stdout",
          "text": [
            "Path to dataset files: /root/.cache/kagglehub/datasets/uciml/red-wine-quality-cortez-et-al-2009/versions/2\n"
          ]
        }
      ],
      "source": [
        "import kagglehub\n",
        "\n",
        "# Download latest version\n",
        "file_path = kagglehub.dataset_download(\"uciml/red-wine-quality-cortez-et-al-2009\")\n",
        "\n",
        "print(\"Path to dataset files:\", file_path)"
      ]
    },
    {
      "cell_type": "code",
      "execution_count": 16,
      "metadata": {
        "id": "dmkI4p4rgl8W",
        "outputId": "0fcc9c49-9d21-495e-9043-1b9df0f2a684",
        "colab": {
          "base_uri": "https://localhost:8080/"
        }
      },
      "outputs": [
        {
          "output_type": "stream",
          "name": "stdout",
          "text": [
            "(1119, 11)\n"
          ]
        }
      ],
      "source": [
        "# 0. Introduction\n",
        "\n",
        "# Import pacakge\n",
        "import pandas as pd\n",
        "from pathlib import Path\n",
        "\n",
        "# Read csv file\n",
        "data = pd.read_csv(Path(file_path) / \"winequality-red.csv\")\n",
        "\n",
        "# Print head\n",
        "data.head()\n",
        "\n",
        "# Prepare training and validation data\n",
        "df_train = data.sample(frac=0.7, random_state=0)\n",
        "df_valid = data.drop(df_train.index)\n",
        "shape=df_train.shape\n",
        "\n",
        "# Scale to [0, 1]\n",
        "max_ = df_train.max(axis=0)\n",
        "min_ = df_train.min(axis=0)\n",
        "df_train = (df_train - min_) / (max_ - min_)\n",
        "df_valid = (df_valid - min_) / (max_ - min_)\n",
        "\n",
        "# Split features and target\n",
        "X_train = df_train.drop('quality', axis=1)\n",
        "X_valid = df_valid.drop('quality', axis=1)\n",
        "y_train = df_train['quality']\n",
        "y_valid = df_valid['quality']\n",
        "\n",
        "print(X_train.shape)"
      ]
    },
    {
      "cell_type": "code",
      "execution_count": 4,
      "metadata": {
        "id": "yLfsVDo1gl8X",
        "outputId": "a4cca5a0-a1ef-4d4a-fe6d-ab00a3169482",
        "colab": {
          "base_uri": "https://localhost:8080/"
        }
      },
      "outputs": [
        {
          "output_type": "stream",
          "name": "stderr",
          "text": [
            "/usr/local/lib/python3.11/dist-packages/keras/src/layers/core/dense.py:87: UserWarning: Do not pass an `input_shape`/`input_dim` argument to a layer. When using Sequential models, prefer using an `Input(shape)` object as the first layer in the model instead.\n",
            "  super().__init__(activity_regularizer=activity_regularizer, **kwargs)\n"
          ]
        }
      ],
      "source": [
        "# 1. Define a Linear Model\n",
        "\n",
        "## 1.1 Import packages\n",
        "\n",
        "from tensorflow import keras\n",
        "from tensorflow.keras import layers\n",
        "\n",
        "## 1.2 Identify input shape (number of columns)\n",
        "input_shape=shape[1]-1\n",
        "\n",
        "## 1.3 Create a network with 1 linear unit\n",
        "model = keras.Sequential([\n",
        "    layers.Dense(units=1, input_shape=[input_shape])\n",
        "])"
      ]
    },
    {
      "cell_type": "markdown",
      "source": [
        "# Section 2: A Network"
      ],
      "metadata": {
        "id": "cYgaQnRh7DLw"
      }
    },
    {
      "cell_type": "markdown",
      "source": [
        "- [Layer] A group of neurons, each performing relatively simple transformation\n",
        "- [Hidden layers] Layers before the output layers\n",
        "- [Dense layer] Group of linear units having a common set of inputs\n",
        "- [Activation function] Function to each layer's outputs that makes it non-linear, e.g. rectifier function\n",
        "- [ReLU] Refers to rectified linear unit, which make all negative output into zero and bends the data (non-linear)\n",
        "\n",
        "1. Create Seqential model to connect layers from first (input) to last (output) `model = keras.Sequential([\n",
        "layers.Dense(units=4, activation='relu', input_shape=[2]), layers.Dense(units=3,activation='relu'),layers.Dense(units=1),])`"
      ],
      "metadata": {
        "id": "LIy_VdvK7GGg"
      }
    },
    {
      "cell_type": "code",
      "execution_count": 20,
      "metadata": {
        "id": "AkLEqRyRgl8X",
        "outputId": "f5e94bdb-0803-4437-f931-912cccb05a1e",
        "colab": {
          "base_uri": "https://localhost:8080/"
        }
      },
      "outputs": [
        {
          "output_type": "stream",
          "name": "stderr",
          "text": [
            "/usr/local/lib/python3.11/dist-packages/keras/src/layers/core/dense.py:87: UserWarning: Do not pass an `input_shape`/`input_dim` argument to a layer. When using Sequential models, prefer using an `Input(shape)` object as the first layer in the model instead.\n",
            "  super().__init__(activity_regularizer=activity_regularizer, **kwargs)\n"
          ]
        }
      ],
      "source": [
        "# 2. Deep Neural Networks\n",
        "\n",
        "from tensorflow import keras\n",
        "from tensorflow.keras import layers\n",
        "\n",
        "model = keras.Sequential([\n",
        "    # 1st hidden ReLU layers\n",
        "    layers.Dense(units=512, activation='relu', input_shape=[11]),\n",
        "    # 2nd hidden ReLU layers\n",
        "    layers.Dense(units=512, activation='relu'),\n",
        "    # 3rd hidden ReLU layers\n",
        "    layers.Dense(units=512, activation='relu'),\n",
        "    # the linear output layer\n",
        "    layers.Dense(units=1),\n",
        "])"
      ]
    },
    {
      "cell_type": "markdown",
      "source": [
        "# Section 3: Training and Improving"
      ],
      "metadata": {
        "id": "YcKbHyIW7T2_"
      }
    },
    {
      "cell_type": "markdown",
      "source": [
        "## 1. Training the Model\n",
        "\n",
        "- [Loss function] Measures how good the predictions are, e.g. Mean absolute error (MAE) = difference between target and prediction, mean-squared error (MSE) or the Huber loss\n",
        "- [Stochastic gradient desceint] Iterative algorithms that changes the weight to the direction with the fastest change in loss. Stochastic refers to the random sampling of minibatches\n",
        "- [Minibatch/ Batch] Each iteration's sample of traning data\n",
        "- [Epoch] Complete round of training data\n",
        "- [Optimiser] Inform network how to change its weights (slope and y-intercept) after seeing a new minibatch to obtain best fit line, e.g. Adam\n",
        "- [Learning rate] Proportional to the size of the shift after seeing a new minibatch\n",
        "\n",
        "1. Define the model (Last part)\n",
        "1. Add the optimiser and loss function:\n",
        "`model.compile(optimizer=\"adam\",\n",
        "loss=\"mae\",)`\n",
        "1. Fit the data `history = model.fit( X_train, y_train, validation_data=(X_valid, y_valid), batch_size=256, epochs=10,)`\n",
        "\n",
        "## 2. Overfitting and Underfitting\n",
        "\n",
        "- [Signal and noise in training data] Signal generalises (aid predictions of new data) and noise is only true for training data (non-informative about new data)\n",
        "- [Learning curve of validation data] Graph of validation loss versus training data epochs, goes down when the model learns signal\n",
        "- [Intepreting noise from learning curve] THe gap between learning curve of validation and training increases with noise the model learned\n",
        "- [Capacity] Size and complexity of the patterns able to learn, determined by neuron's quantity and connection, increases by adding more layers or units\n",
        "- [Early stopping] Stop the training when validation loss stops decreasing\n",
        "\n",
        "1. Add early stopping `early_stopping = EarlyStopping(min_delta=0.001, patience=20, restore_best_weights=True,\n",
        ")`"
      ],
      "metadata": {
        "id": "xzC7t_5M7XcL"
      }
    },
    {
      "cell_type": "code",
      "source": [
        "# 3. Training the Model\n",
        "\n",
        "## 3.2 Add Optimiser and loss function\n",
        "model.compile(\n",
        "    optimizer='adam',\n",
        "    loss='mae',\n",
        ")\n",
        "\n",
        "## 3.3 Fit the data\n",
        "history = model.fit(\n",
        "    X_train, y_train,\n",
        "    validation_data=(X_valid, y_valid),\n",
        "    batch_size=256,\n",
        "    epochs=10,\n",
        ")\n",
        "\n",
        "# Plot the loss curve\n",
        "history_df = pd.DataFrame(history.history)\n",
        "history_df['loss'].plot();"
      ],
      "metadata": {
        "id": "yjh1yuzQykGB",
        "outputId": "dbcb1e19-9daf-4d8e-b6ad-ea82e7d51030",
        "colab": {
          "base_uri": "https://localhost:8080/",
          "height": 788
        }
      },
      "execution_count": 21,
      "outputs": [
        {
          "output_type": "stream",
          "name": "stdout",
          "text": [
            "Epoch 1/10\n",
            "\u001b[1m5/5\u001b[0m \u001b[32m━━━━━━━━━━━━━━━━━━━━\u001b[0m\u001b[37m\u001b[0m \u001b[1m2s\u001b[0m 74ms/step - loss: 0.3127 - val_loss: 0.1386\n",
            "Epoch 2/10\n",
            "\u001b[1m5/5\u001b[0m \u001b[32m━━━━━━━━━━━━━━━━━━━━\u001b[0m\u001b[37m\u001b[0m \u001b[1m0s\u001b[0m 39ms/step - loss: 0.1387 - val_loss: 0.1256\n",
            "Epoch 3/10\n",
            "\u001b[1m5/5\u001b[0m \u001b[32m━━━━━━━━━━━━━━━━━━━━\u001b[0m\u001b[37m\u001b[0m \u001b[1m0s\u001b[0m 47ms/step - loss: 0.1289 - val_loss: 0.1194\n",
            "Epoch 4/10\n",
            "\u001b[1m5/5\u001b[0m \u001b[32m━━━━━━━━━━━━━━━━━━━━\u001b[0m\u001b[37m\u001b[0m \u001b[1m0s\u001b[0m 36ms/step - loss: 0.1187 - val_loss: 0.1085\n",
            "Epoch 5/10\n",
            "\u001b[1m5/5\u001b[0m \u001b[32m━━━━━━━━━━━━━━━━━━━━\u001b[0m\u001b[37m\u001b[0m \u001b[1m0s\u001b[0m 46ms/step - loss: 0.1106 - val_loss: 0.1083\n",
            "Epoch 6/10\n",
            "\u001b[1m5/5\u001b[0m \u001b[32m━━━━━━━━━━━━━━━━━━━━\u001b[0m\u001b[37m\u001b[0m \u001b[1m0s\u001b[0m 42ms/step - loss: 0.1089 - val_loss: 0.1054\n",
            "Epoch 7/10\n",
            "\u001b[1m5/5\u001b[0m \u001b[32m━━━━━━━━━━━━━━━━━━━━\u001b[0m\u001b[37m\u001b[0m \u001b[1m0s\u001b[0m 41ms/step - loss: 0.1074 - val_loss: 0.1021\n",
            "Epoch 8/10\n",
            "\u001b[1m5/5\u001b[0m \u001b[32m━━━━━━━━━━━━━━━━━━━━\u001b[0m\u001b[37m\u001b[0m \u001b[1m0s\u001b[0m 37ms/step - loss: 0.1029 - val_loss: 0.1020\n",
            "Epoch 9/10\n",
            "\u001b[1m5/5\u001b[0m \u001b[32m━━━━━━━━━━━━━━━━━━━━\u001b[0m\u001b[37m\u001b[0m \u001b[1m0s\u001b[0m 46ms/step - loss: 0.1032 - val_loss: 0.1080\n",
            "Epoch 10/10\n",
            "\u001b[1m5/5\u001b[0m \u001b[32m━━━━━━━━━━━━━━━━━━━━\u001b[0m\u001b[37m\u001b[0m \u001b[1m0s\u001b[0m 39ms/step - loss: 0.1006 - val_loss: 0.1016\n"
          ]
        },
        {
          "output_type": "display_data",
          "data": {
            "text/plain": [
              "<Figure size 640x480 with 1 Axes>"
            ],
            "image/png": "[encoded data removed]"
          },
          "metadata": {}
        }
      ]
    },
    {
      "cell_type": "code",
      "source": [
        "# 2. Overfitting and Underfitting\n",
        "\n",
        "from tensorflow.keras.callbacks import EarlyStopping\n",
        "\n",
        "early_stopping = EarlyStopping(\n",
        "    min_delta=0.001, # minimium amount of change to count as an improvement\n",
        "    patience=20, # how many epochs to wait before stopping\n",
        "    restore_best_weights=True,\n",
        ")\n",
        "\n",
        "# Train the model with early stopping\n",
        "history = model.fit(\n",
        "    X_train, y_train,\n",
        "    validation_data=(X_valid, y_valid),\n",
        "    batch_size=256,\n",
        "    epochs=500,\n",
        "    callbacks=[early_stopping], # put your callbacks in a list\n",
        "    verbose=0,  # turn off training log\n",
        ")\n",
        "\n",
        "# Compare the loss curve with and without early stopping\n",
        "history_df = pd.DataFrame(history.history)\n",
        "history_df.loc[:, ['loss', 'val_loss']].plot();\n",
        "print(\"Minimum validation loss: {}\".format(history_df['val_loss'].min()))"
      ],
      "metadata": {
        "id": "WbJztBx-4GGs",
        "outputId": "8925d614-81bd-4550-addb-b24eacb9f783",
        "colab": {
          "base_uri": "https://localhost:8080/",
          "height": 448
        }
      },
      "execution_count": 25,
      "outputs": [
        {
          "output_type": "stream",
          "name": "stdout",
          "text": [
            "Minimum validation loss: 0.09152933955192566\n"
          ]
        },
        {
          "output_type": "display_data",
          "data": {
            "text/plain": [
              "<Figure size 640x480 with 1 Axes>"
            ],
            "image/png": "[encoded data removed]"
          },
          "metadata": {}
        }
      ]
    },
    {
      "cell_type": "code",
      "source": [],
      "metadata": {
        "id": "d3rfirdS9wS6"
      },
      "execution_count": null,
      "outputs": []
    }
  ],
  "metadata": {
    "kernelspec": {
      "display_name": ".venv",
      "language": "python",
      "name": "python3"
    },
    "language_info": {
      "codemirror_mode": {
        "name": "ipython",
        "version": 3
      },
      "file_extension": ".py",
      "mimetype": "text/x-python",
      "name": "python",
      "nbconvert_exporter": "python",
      "pygments_lexer": "ipython3",
      "version": "3.12.5"
    },
    "colab": {
      "provenance": [],
      "include_colab_link": true
    }
  },
  "nbformat": 4,
  "nbformat_minor": 0
}