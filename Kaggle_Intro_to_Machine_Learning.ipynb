{
  "cells": [
    {
      "cell_type": "markdown",
      "metadata": {
        "id": "3NFglXoXAESu"
      },
      "source": [
        "# Section 1: From zero to one"
      ]
    },
    {
      "cell_type": "markdown",
      "metadata": {
        "id": "miLYJL4ZxJ5K"
      },
      "source": [
        "## 0. Introduction\n",
        "- Start with the Decision Tree model\n",
        "- [Fitting/ Training the model] Split training data into two groups according to patterns.\n",
        "- [Improving the Decision Tree] Use more \"splits\" to calture more factors. A tree with more \"splits\" is a \"deeper\" tree.\n",
        "\n",
        "## 1. Get Familiar With Data\n",
        "- Use pandas by\n",
        "  1. Import pacakge `import pandas as pd`.\n",
        "  2. Read csv file `data = pd.read_csv(file_path)`.\n",
        "  3. Print summary of data, including count, mean, std, min, max, 25%, 50%, 75% `data.describe()` .\n",
        "  - count: shows rows with non-missing value.\n",
        "  - 25% (25th percentile): data is sorted from the smallest, 25% shows the number that is larger than 25% of values and smaller than 75% of them.\n",
        "- [DataFrame] Similar to sheet in Excel\n",
        "\n",
        "## 2. Selecting Variables for Modelling\n",
        "1. Repeat steps 1-2 from Part 1\n",
        "2. Print variables/columns: `data.columns`\n",
        "3. Optional: Drop missing values: `data = data.dropna(axis=0)`\n",
        "4. Set the prediction target (The value you want to predict, e.g. Price) as the y axis: `y = data.Price`\n",
        "5. Select the features (variables used for prediction): `features = ['feature1', 'feature2', 'feature3']`\n",
        "  - Note that only numerical data types can be used at this stage.\n",
        "6. Set the data of these features as X-axis values: `X=data[features]`\n",
        "7. Optional: Print the summary of these features: `X.describe()`\n",
        "8. Optional: Print the first 5 data of these features: `X.head()`\n",
        "\n",
        "## 3. Building the Model and Making Predictions (Without Evaluation)\n",
        "1. Define the model used (In our case, it's the decision tree): `from sklearn.tree import DecisionTreeRegressor`//\n",
        "`model = DecisionTreeRegressor(random_state=1)`\n",
        "- `random_state = 1` ensures you get the same results in each run, it is none as defult\n",
        "2. Fit the data into the model: `model.fit(X,y)`\n",
        "3. Predict: `prediction = model.predict(X)`\n",
        "4. View the prediction: `y.head()`\n",
        "\n",
        "- To evaluate, we can calculate the mean absolute error, which is the average difference between the predictions and the actual data. However, if we use the data that is used to train the model, there will be bias. In the next section, we will evaluate the model using new, unseen data."
      ]
    },
    {
      "cell_type": "code",
      "execution_count": 7,
      "metadata": {
        "colab": {
          "base_uri": "https://localhost:8080/"
        },
        "id": "Dc818ztV0K_1",
        "outputId": "12c6e7dd-41a8-4d68-8ffc-912b778ca60e"
      },
      "outputs": [
        {
          "name": "stdout",
          "output_type": "stream",
          "text": [
            "Path to dataset files: /Users/heiley/.cache/kagglehub/datasets/dansbecker/melbourne-housing-snapshot/versions/5\n"
          ]
        }
      ],
      "source": [
        "# Download data from Kaggle\n",
        "\n",
        "import kagglehub\n",
        "\n",
        "# Download latest version\n",
        "path = kagglehub.dataset_download(\"dansbecker/melbourne-housing-snapshot\")\n",
        "\n",
        "print(\"Path to dataset files:\", path)"
      ]
    },
    {
      "cell_type": "code",
      "execution_count": 8,
      "metadata": {
        "colab": {
          "base_uri": "https://localhost:8080/",
          "height": 320
        },
        "id": "hIAHiKXQ8uye",
        "outputId": "f7988966-57ed-4f03-ae83-d5cf0bd7f311"
      },
      "outputs": [
        {
          "data": {
            "text/html": [
              "<div>\n",
              "<style scoped>\n",
              "    .dataframe tbody tr th:only-of-type {\n",
              "        vertical-align: middle;\n",
              "    }\n",
              "\n",
              "    .dataframe tbody tr th {\n",
              "        vertical-align: top;\n",
              "    }\n",
              "\n",
              "    .dataframe thead th {\n",
              "        text-align: right;\n",
              "    }\n",
              "</style>\n",
              "<table border=\"1\" class=\"dataframe\">\n",
              "  <thead>\n",
              "    <tr style=\"text-align: right;\">\n",
              "      <th></th>\n",
              "      <th>Rooms</th>\n",
              "      <th>Price</th>\n",
              "      <th>Distance</th>\n",
              "      <th>Postcode</th>\n",
              "      <th>Bedroom2</th>\n",
              "      <th>Bathroom</th>\n",
              "      <th>Car</th>\n",
              "      <th>Landsize</th>\n",
              "      <th>BuildingArea</th>\n",
              "      <th>YearBuilt</th>\n",
              "      <th>Lattitude</th>\n",
              "      <th>Longtitude</th>\n",
              "      <th>Propertycount</th>\n",
              "    </tr>\n",
              "  </thead>\n",
              "  <tbody>\n",
              "    <tr>\n",
              "      <th>count</th>\n",
              "      <td>13580.000000</td>\n",
              "      <td>1.358000e+04</td>\n",
              "      <td>13580.000000</td>\n",
              "      <td>13580.000000</td>\n",
              "      <td>13580.000000</td>\n",
              "      <td>13580.000000</td>\n",
              "      <td>13518.000000</td>\n",
              "      <td>13580.000000</td>\n",
              "      <td>7130.000000</td>\n",
              "      <td>8205.000000</td>\n",
              "      <td>13580.000000</td>\n",
              "      <td>13580.000000</td>\n",
              "      <td>13580.000000</td>\n",
              "    </tr>\n",
              "    <tr>\n",
              "      <th>mean</th>\n",
              "      <td>2.937997</td>\n",
              "      <td>1.075684e+06</td>\n",
              "      <td>10.137776</td>\n",
              "      <td>3105.301915</td>\n",
              "      <td>2.914728</td>\n",
              "      <td>1.534242</td>\n",
              "      <td>1.610075</td>\n",
              "      <td>558.416127</td>\n",
              "      <td>151.967650</td>\n",
              "      <td>1964.684217</td>\n",
              "      <td>-37.809203</td>\n",
              "      <td>144.995216</td>\n",
              "      <td>7454.417378</td>\n",
              "    </tr>\n",
              "    <tr>\n",
              "      <th>std</th>\n",
              "      <td>0.955748</td>\n",
              "      <td>6.393107e+05</td>\n",
              "      <td>5.868725</td>\n",
              "      <td>90.676964</td>\n",
              "      <td>0.965921</td>\n",
              "      <td>0.691712</td>\n",
              "      <td>0.962634</td>\n",
              "      <td>3990.669241</td>\n",
              "      <td>541.014538</td>\n",
              "      <td>37.273762</td>\n",
              "      <td>0.079260</td>\n",
              "      <td>0.103916</td>\n",
              "      <td>4378.581772</td>\n",
              "    </tr>\n",
              "    <tr>\n",
              "      <th>min</th>\n",
              "      <td>1.000000</td>\n",
              "      <td>8.500000e+04</td>\n",
              "      <td>0.000000</td>\n",
              "      <td>3000.000000</td>\n",
              "      <td>0.000000</td>\n",
              "      <td>0.000000</td>\n",
              "      <td>0.000000</td>\n",
              "      <td>0.000000</td>\n",
              "      <td>0.000000</td>\n",
              "      <td>1196.000000</td>\n",
              "      <td>-38.182550</td>\n",
              "      <td>144.431810</td>\n",
              "      <td>249.000000</td>\n",
              "    </tr>\n",
              "    <tr>\n",
              "      <th>25%</th>\n",
              "      <td>2.000000</td>\n",
              "      <td>6.500000e+05</td>\n",
              "      <td>6.100000</td>\n",
              "      <td>3044.000000</td>\n",
              "      <td>2.000000</td>\n",
              "      <td>1.000000</td>\n",
              "      <td>1.000000</td>\n",
              "      <td>177.000000</td>\n",
              "      <td>93.000000</td>\n",
              "      <td>1940.000000</td>\n",
              "      <td>-37.856822</td>\n",
              "      <td>144.929600</td>\n",
              "      <td>4380.000000</td>\n",
              "    </tr>\n",
              "    <tr>\n",
              "      <th>50%</th>\n",
              "      <td>3.000000</td>\n",
              "      <td>9.030000e+05</td>\n",
              "      <td>9.200000</td>\n",
              "      <td>3084.000000</td>\n",
              "      <td>3.000000</td>\n",
              "      <td>1.000000</td>\n",
              "      <td>2.000000</td>\n",
              "      <td>440.000000</td>\n",
              "      <td>126.000000</td>\n",
              "      <td>1970.000000</td>\n",
              "      <td>-37.802355</td>\n",
              "      <td>145.000100</td>\n",
              "      <td>6555.000000</td>\n",
              "    </tr>\n",
              "    <tr>\n",
              "      <th>75%</th>\n",
              "      <td>3.000000</td>\n",
              "      <td>1.330000e+06</td>\n",
              "      <td>13.000000</td>\n",
              "      <td>3148.000000</td>\n",
              "      <td>3.000000</td>\n",
              "      <td>2.000000</td>\n",
              "      <td>2.000000</td>\n",
              "      <td>651.000000</td>\n",
              "      <td>174.000000</td>\n",
              "      <td>1999.000000</td>\n",
              "      <td>-37.756400</td>\n",
              "      <td>145.058305</td>\n",
              "      <td>10331.000000</td>\n",
              "    </tr>\n",
              "    <tr>\n",
              "      <th>max</th>\n",
              "      <td>10.000000</td>\n",
              "      <td>9.000000e+06</td>\n",
              "      <td>48.100000</td>\n",
              "      <td>3977.000000</td>\n",
              "      <td>20.000000</td>\n",
              "      <td>8.000000</td>\n",
              "      <td>10.000000</td>\n",
              "      <td>433014.000000</td>\n",
              "      <td>44515.000000</td>\n",
              "      <td>2018.000000</td>\n",
              "      <td>-37.408530</td>\n",
              "      <td>145.526350</td>\n",
              "      <td>21650.000000</td>\n",
              "    </tr>\n",
              "  </tbody>\n",
              "</table>\n",
              "</div>"
            ],
            "text/plain": [
              "              Rooms         Price      Distance      Postcode      Bedroom2  \\\n",
              "count  13580.000000  1.358000e+04  13580.000000  13580.000000  13580.000000   \n",
              "mean       2.937997  1.075684e+06     10.137776   3105.301915      2.914728   \n",
              "std        0.955748  6.393107e+05      5.868725     90.676964      0.965921   \n",
              "min        1.000000  8.500000e+04      0.000000   3000.000000      0.000000   \n",
              "25%        2.000000  6.500000e+05      6.100000   3044.000000      2.000000   \n",
              "50%        3.000000  9.030000e+05      9.200000   3084.000000      3.000000   \n",
              "75%        3.000000  1.330000e+06     13.000000   3148.000000      3.000000   \n",
              "max       10.000000  9.000000e+06     48.100000   3977.000000     20.000000   \n",
              "\n",
              "           Bathroom           Car       Landsize  BuildingArea    YearBuilt  \\\n",
              "count  13580.000000  13518.000000   13580.000000   7130.000000  8205.000000   \n",
              "mean       1.534242      1.610075     558.416127    151.967650  1964.684217   \n",
              "std        0.691712      0.962634    3990.669241    541.014538    37.273762   \n",
              "min        0.000000      0.000000       0.000000      0.000000  1196.000000   \n",
              "25%        1.000000      1.000000     177.000000     93.000000  1940.000000   \n",
              "50%        1.000000      2.000000     440.000000    126.000000  1970.000000   \n",
              "75%        2.000000      2.000000     651.000000    174.000000  1999.000000   \n",
              "max        8.000000     10.000000  433014.000000  44515.000000  2018.000000   \n",
              "\n",
              "          Lattitude    Longtitude  Propertycount  \n",
              "count  13580.000000  13580.000000   13580.000000  \n",
              "mean     -37.809203    144.995216    7454.417378  \n",
              "std        0.079260      0.103916    4378.581772  \n",
              "min      -38.182550    144.431810     249.000000  \n",
              "25%      -37.856822    144.929600    4380.000000  \n",
              "50%      -37.802355    145.000100    6555.000000  \n",
              "75%      -37.756400    145.058305   10331.000000  \n",
              "max      -37.408530    145.526350   21650.000000  "
            ]
          },
          "execution_count": 8,
          "metadata": {},
          "output_type": "execute_result"
        }
      ],
      "source": [
        "# 1. Get Familar with Data\n",
        "\n",
        "## 1.1 Import packages\n",
        "import pandas as pd\n",
        "from pathlib import Path\n",
        "\n",
        "## 1.2 Read CSV file\n",
        "data = pd.read_csv(Path(path) / \"melb_data.csv\")\n",
        "\n",
        "## 1.3 Print summary of data\n",
        "data.describe()"
      ]
    },
    {
      "cell_type": "code",
      "execution_count": 9,
      "metadata": {
        "colab": {
          "base_uri": "https://localhost:8080/"
        },
        "id": "lzAdNFM49RNm",
        "outputId": "006af534-b5e4-44ca-d4d3-7f8ad76c8f7b"
      },
      "outputs": [
        {
          "data": {
            "text/plain": [
              "Index(['Suburb', 'Address', 'Rooms', 'Type', 'Price', 'Method', 'SellerG',\n",
              "       'Date', 'Distance', 'Postcode', 'Bedroom2', 'Bathroom', 'Car',\n",
              "       'Landsize', 'BuildingArea', 'YearBuilt', 'CouncilArea', 'Lattitude',\n",
              "       'Longtitude', 'Regionname', 'Propertycount'],\n",
              "      dtype='object')"
            ]
          },
          "execution_count": 9,
          "metadata": {},
          "output_type": "execute_result"
        }
      ],
      "source": [
        "# 2. Selecting Variables for Modelling\n",
        "\n",
        "## 2.2 Print variables\n",
        "data.columns"
      ]
    },
    {
      "cell_type": "code",
      "execution_count": 10,
      "metadata": {
        "colab": {
          "base_uri": "https://localhost:8080/",
          "height": 206
        },
        "id": "ziiU2WXW9-Zb",
        "outputId": "492e331c-d085-4f32-f0e7-951b2aca2cfd"
      },
      "outputs": [
        {
          "data": {
            "text/html": [
              "<div>\n",
              "<style scoped>\n",
              "    .dataframe tbody tr th:only-of-type {\n",
              "        vertical-align: middle;\n",
              "    }\n",
              "\n",
              "    .dataframe tbody tr th {\n",
              "        vertical-align: top;\n",
              "    }\n",
              "\n",
              "    .dataframe thead th {\n",
              "        text-align: right;\n",
              "    }\n",
              "</style>\n",
              "<table border=\"1\" class=\"dataframe\">\n",
              "  <thead>\n",
              "    <tr style=\"text-align: right;\">\n",
              "      <th></th>\n",
              "      <th>Rooms</th>\n",
              "      <th>Price</th>\n",
              "      <th>Distance</th>\n",
              "      <th>Bedroom2</th>\n",
              "      <th>Bathroom</th>\n",
              "      <th>Car</th>\n",
              "      <th>Landsize</th>\n",
              "      <th>BuildingArea</th>\n",
              "      <th>YearBuilt</th>\n",
              "    </tr>\n",
              "  </thead>\n",
              "  <tbody>\n",
              "    <tr>\n",
              "      <th>1</th>\n",
              "      <td>2</td>\n",
              "      <td>1035000.0</td>\n",
              "      <td>2.5</td>\n",
              "      <td>2.0</td>\n",
              "      <td>1.0</td>\n",
              "      <td>0.0</td>\n",
              "      <td>156.0</td>\n",
              "      <td>79.0</td>\n",
              "      <td>1900.0</td>\n",
              "    </tr>\n",
              "    <tr>\n",
              "      <th>2</th>\n",
              "      <td>3</td>\n",
              "      <td>1465000.0</td>\n",
              "      <td>2.5</td>\n",
              "      <td>3.0</td>\n",
              "      <td>2.0</td>\n",
              "      <td>0.0</td>\n",
              "      <td>134.0</td>\n",
              "      <td>150.0</td>\n",
              "      <td>1900.0</td>\n",
              "    </tr>\n",
              "    <tr>\n",
              "      <th>4</th>\n",
              "      <td>4</td>\n",
              "      <td>1600000.0</td>\n",
              "      <td>2.5</td>\n",
              "      <td>3.0</td>\n",
              "      <td>1.0</td>\n",
              "      <td>2.0</td>\n",
              "      <td>120.0</td>\n",
              "      <td>142.0</td>\n",
              "      <td>2014.0</td>\n",
              "    </tr>\n",
              "    <tr>\n",
              "      <th>6</th>\n",
              "      <td>3</td>\n",
              "      <td>1876000.0</td>\n",
              "      <td>2.5</td>\n",
              "      <td>4.0</td>\n",
              "      <td>2.0</td>\n",
              "      <td>0.0</td>\n",
              "      <td>245.0</td>\n",
              "      <td>210.0</td>\n",
              "      <td>1910.0</td>\n",
              "    </tr>\n",
              "    <tr>\n",
              "      <th>7</th>\n",
              "      <td>2</td>\n",
              "      <td>1636000.0</td>\n",
              "      <td>2.5</td>\n",
              "      <td>2.0</td>\n",
              "      <td>1.0</td>\n",
              "      <td>2.0</td>\n",
              "      <td>256.0</td>\n",
              "      <td>107.0</td>\n",
              "      <td>1890.0</td>\n",
              "    </tr>\n",
              "  </tbody>\n",
              "</table>\n",
              "</div>"
            ],
            "text/plain": [
              "   Rooms      Price  Distance  Bedroom2  Bathroom  Car  Landsize  \\\n",
              "1      2  1035000.0       2.5       2.0       1.0  0.0     156.0   \n",
              "2      3  1465000.0       2.5       3.0       2.0  0.0     134.0   \n",
              "4      4  1600000.0       2.5       3.0       1.0  2.0     120.0   \n",
              "6      3  1876000.0       2.5       4.0       2.0  0.0     245.0   \n",
              "7      2  1636000.0       2.5       2.0       1.0  2.0     256.0   \n",
              "\n",
              "   BuildingArea  YearBuilt  \n",
              "1          79.0     1900.0  \n",
              "2         150.0     1900.0  \n",
              "4         142.0     2014.0  \n",
              "6         210.0     1910.0  \n",
              "7         107.0     1890.0  "
            ]
          },
          "execution_count": 10,
          "metadata": {},
          "output_type": "execute_result"
        }
      ],
      "source": [
        "## 2.3 Drop missing values\n",
        "data = data.dropna(axis=0)\n",
        "\n",
        "## 2.4 Set the prediction target (The value you want to predict, e.g. Price) as the y axis\n",
        "y = data.Price\n",
        "\n",
        "## 2.5 Select the features (variables used for prediction). Only numerical data types can be used.\n",
        "features = ['Rooms', 'Price', 'Distance', 'Bedroom2', 'Bathroom', 'Car','Landsize', 'BuildingArea', 'YearBuilt']\n",
        "\n",
        "## 2.6 Set the data of these features as X-axis values\n",
        "X=data[features]\n",
        "\n",
        "## 2.7 Optional: Print the summary of these features\n",
        "X.describe()\n",
        "\n",
        "## 2.8 Optional: Print the first 5 data of these features\n",
        "X.head()"
      ]
    },
    {
      "cell_type": "code",
      "execution_count": 11,
      "metadata": {
        "colab": {
          "base_uri": "https://localhost:8080/",
          "height": 241
        },
        "id": "8YgElaWN-hq9",
        "outputId": "c8f721cd-3aa5-4067-dab0-2d242b55cf78"
      },
      "outputs": [
        {
          "data": {
            "text/plain": [
              "1    1035000.0\n",
              "2    1465000.0\n",
              "4    1600000.0\n",
              "6    1876000.0\n",
              "7    1636000.0\n",
              "Name: Price, dtype: float64"
            ]
          },
          "execution_count": 11,
          "metadata": {},
          "output_type": "execute_result"
        }
      ],
      "source": [
        "# 3. Building the Model and Making Predictions (Without Evaluation)\n",
        "\n",
        "## 3.1 Define the model used (In our case, it's the decision tree)\n",
        "from sklearn.tree import DecisionTreeRegressor\n",
        "\n",
        "model = DecisionTreeRegressor(random_state=1)\n",
        "\n",
        "### `random_state = 1` ensures you get the same results in each run, it is none as defult\n",
        "\n",
        "## 3.2 Fit the data into the model\n",
        "model.fit(X,y)\n",
        "\n",
        "## 3.3 Predict\n",
        "prediction = model.predict(X)\n",
        "\n",
        "## 3.4 View the predictions\n",
        "y.head()"
      ]
    },
    {
      "cell_type": "markdown",
      "metadata": {
        "id": "M4rc4ri5_9bM"
      },
      "source": [
        "# Section 2: How well does the Model Predict Unseen Data?"
      ]
    },
    {
      "cell_type": "markdown",
      "metadata": {
        "id": "QCU4yXCxAS6t"
      },
      "source": [
        "## 1. Split the data\n",
        "- We don't have to generate new data! We can just split the original data into two: one for training and one for validation.\n",
        "1. Import package to split data: `from sklearn.model_selection import train_test_split`\n",
        "2. Spit data into training and validation: `train_X, val_X, train_y, val_y = train_test_split(X, y, random_state = 0)`\n",
        "3. Build the model, same as Section 1 Part 3, but use the training data: `model = DecisionTreeRegressor()`//`model.fit(train_X, train_y)`\n",
        "4. Use the model on unseen data, and get the predictions: `val_predictions = model.predict(val_X)`\n",
        "5. Print the mean absolute error, which is the average difference between predictions and actual values: `from sklearn.metrics import mean_absolute_error`//`print(f\"The mean absolute error for the validation data = {mean_absolute_error(val_y, val_predictions)}.\")`"
      ]
    },
    {
      "cell_type": "code",
      "execution_count": 12,
      "metadata": {
        "colab": {
          "base_uri": "https://localhost:8080/"
        },
        "id": "oZbnWRDkXIv6",
        "outputId": "4c900099-1322-4236-8ae0-2951b845d3f8"
      },
      "outputs": [
        {
          "name": "stdout",
          "output_type": "stream",
          "text": [
            "Mean absolute error for the validation data = 5153.068431245965\n"
          ]
        }
      ],
      "source": [
        "# 1. Import package to split data\n",
        "from sklearn.model_selection import train_test_split\n",
        "\n",
        "# 2. Spit data into training and validation\n",
        "train_X, val_X, train_y, val_y = train_test_split(X, y, random_state = 0)\n",
        "\n",
        "# 3. Build the model, same as Section 1 Part 3, but use the training data\n",
        "model = DecisionTreeRegressor()\n",
        "model.fit(train_X, train_y)\n",
        "\n",
        "# 4. Use the model on unseen data, and get the predictions\n",
        "val_predictions = model.predict(val_X)\n",
        "\n",
        "# 5. Print the mean absolute error, which is the average difference between predictions and actual values:\n",
        "from sklearn.metrics import mean_absolute_error\n",
        "print(f\"Mean absolute error for the validation data = {mean_absolute_error(val_y, val_predictions)}\")"
      ]
    },
    {
      "cell_type": "markdown",
      "metadata": {
        "id": "QR1W-3tleLQ2"
      },
      "source": [
        "# Section 3: An Alternative"
      ]
    },
    {
      "cell_type": "markdown",
      "metadata": {
        "id": "1Zjt_zEFX3C0"
      },
      "source": [
        "## 1. Why is the Decision Tree Model Not Working?\n",
        "- Underfitting: When the tree has too few branches, it groups houses based on overly general patterns, leading to poor performance on both training and validation data.\n",
        "- Overfitting: When the tree has too many branches, it captures overly specific patterns, resulting in high accuracy on training data but poor performance on validation data.\n",
        "\n",
        "## 2. Random Forest Model\n",
        "- Uses many trees, in contrast to the decision tree, which uses one tree.\n",
        "- Makes prediction by averaging the predictions of each componet tree.\n",
        "1. Import packages: `from sklearn.ensemble import RandomForestRegressor`\n",
        "2. Build the model and make predictions, same as Section 2 Part 1, but use random forest: `forest_model = RandomForestRegressor(random_state=1)`//`forest_model.fit(train_X, train_y)`//`melb_preds = forest_model.predict(val_X)`\n",
        "3. Print the mean absolute error\n",
        "`print(f\"Mean absolute error using Random Forest = {mean_absolute_error(val_y, melb_preds)}\")`"
      ]
    },
    {
      "cell_type": "code",
      "execution_count": 13,
      "metadata": {
        "colab": {
          "base_uri": "https://localhost:8080/"
        },
        "id": "Jn5-0VfmbxEr",
        "outputId": "02c2ef7e-3c74-47cd-8bd7-1020ffc9e2d5"
      },
      "outputs": [
        {
          "name": "stdout",
          "output_type": "stream",
          "text": [
            "Mean absolute error using Random Forest = 3024.9537314396384\n"
          ]
        }
      ],
      "source": [
        "from sklearn.ensemble import RandomForestRegressor\n",
        "\n",
        "forest_model = RandomForestRegressor(random_state=1)\n",
        "forest_model.fit(train_X, train_y)\n",
        "melb_preds = forest_model.predict(val_X)\n",
        "print(f\"Mean absolute error using Random Forest = {mean_absolute_error(val_y, melb_preds)}\")"
      ]
    },
    {
      "cell_type": "markdown",
      "metadata": {
        "id": "4y9H9eNRdQ6R"
      },
      "source": [
        "# Conclusion\n",
        "\n",
        "In this notebook, we have learnt about different machine learning models and how to select data to train them. Your next step can be:\n",
        "\n",
        "The Intermediate Machine Learning course will teach you how to handle non-numerical features. You will also learn to use xgboost, a technique giving even better accuracy than Random Forest.\n",
        "\n",
        "The Pandas course will give you the data manipulation skills to quickly go from conceptual idea to implementation in your data science projects.\n",
        "\n",
        "You are also ready for the Deep Learning course, where you will build models with better-than-human level performance at computer vision tasks."
      ]
    }
  ],
  "metadata": {
    "colab": {
      "provenance": []
    },
    "kernelspec": {
      "display_name": "Python 3",
      "language": "python",
      "name": "python3"
    },
    "language_info": {
      "codemirror_mode": {
        "name": "ipython",
        "version": 3
      },
      "file_extension": ".py",
      "mimetype": "text/x-python",
      "name": "python",
      "nbconvert_exporter": "python",
      "pygments_lexer": "ipython3",
      "version": "3.13.1"
    }
  },
  "nbformat": 4,
  "nbformat_minor": 0
}
